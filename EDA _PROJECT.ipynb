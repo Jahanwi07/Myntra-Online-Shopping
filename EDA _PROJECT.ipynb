{
 "cells": [
  {
   "cell_type": "markdown",
   "id": "2b16e0d4",
   "metadata": {},
   "source": [
    "   # EDA on Myntra Clothing Fashion"
   ]
  },
  {
   "cell_type": "markdown",
   "id": "644c0beb",
   "metadata": {},
   "source": [
    "## Why this Project?"
   ]
  },
  {
   "cell_type": "markdown",
   "id": "18fd91a2",
   "metadata": {},
   "source": [
    "### have chosen this Project because Fashion industry analysis seeks to understand how the fashion industry works. What the fashion trends are and what, why, which brands people are buying. It helps us in getting shopping trends awareness. We can analyse it based upon our interest i.e.,if we want then we can analyse the respected dress types as per their brands. On the other hand, analysing industry-wise analytics that study the whole market,such as fashion weeks,trends and customer habits. Thus,there are numerous things to analyse hence, my decision to take this project to work upon my interest."
   ]
  },
  {
   "cell_type": "markdown",
   "id": "d1dadcf5",
   "metadata": {},
   "source": [
    "## Information on Dataset"
   ]
  },
  {
   "cell_type": "markdown",
   "id": "9f1ecf2a",
   "metadata": {},
   "source": [
    " - This data set is all about the clothing sector of Myntra online sites.\n",
    " - There are 526584 Rows and 13 columns.\n",
    " \n"
   ]
  },
  {
   "cell_type": "markdown",
   "id": "a94bff3c",
   "metadata": {},
   "source": [
    "### following are the attributes of the dataset:-"
   ]
  },
  {
   "cell_type": "markdown",
   "id": "f761b201",
   "metadata": {},
   "source": [
    "- url\n",
    "- product_id\n",
    "- BrandName \n",
    "- Category\n",
    "- Description\n",
    "- discountPrice\n",
    "- DiscountOffers\n",
    "- OriginalPrice\n",
    "- Reviews\n",
    "- Ratings"
   ]
  },
  {
   "cell_type": "markdown",
   "id": "44385e0b",
   "metadata": {},
   "source": [
    "## What is my Approach?"
   ]
  },
  {
   "cell_type": "markdown",
   "id": "0b11d646",
   "metadata": {},
   "source": [
    "- First import the Dataset.\n",
    "- Cleaning of Dataset like finding nulls , duplicates and if necessary then remove it.\n",
    "- Getting insights from the dataset.\n",
    "- Visualize the Dataset\n",
    "- Finding outliers \n",
    "- Performing  univariate , Bivariate and Multivariate analysis.\n",
    "- performing Co-relation matrices.\n",
    "\n"
   ]
  },
  {
   "cell_type": "markdown",
   "id": "d1bb55ec",
   "metadata": {},
   "source": [
    "## Now,We will import some libraries which will helps us in reading,cleaning and visualizing our data."
   ]
  },
  {
   "cell_type": "code",
   "execution_count": 1,
   "id": "5100689d",
   "metadata": {},
   "outputs": [],
   "source": [
    "import pandas as pd\n",
    "#it helps in analysing dataset and creating dataframe.\n",
    "import numpy as np\n",
    "#This library is used for working numerical data like linear algebra,matrices and manymore.\n",
    "import matplotlib.pyplot as plt\n",
    "#Matplotlib is the most popular data visualization library which allows us to create figures,plotts.\n",
    "import seaborn as sns\n",
    "#it provides a high-level interface for drawing attractive and informative statistical graphics.\n"
   ]
  },
  {
   "cell_type": "markdown",
   "id": "cf8194f7",
   "metadata": {},
   "source": [
    "## Loading the data."
   ]
  },
  {
   "cell_type": "code",
   "execution_count": 2,
   "id": "5eece7dc",
   "metadata": {},
   "outputs": [
    {
     "name": "stderr",
     "output_type": "stream",
     "text": [
      "C:\\Users\\hp\\anaconda3\\lib\\site-packages\\IPython\\core\\interactiveshell.py:3444: DtypeWarning: Columns (9) have mixed types.Specify dtype option on import or set low_memory=False.\n",
      "  exec(code_obj, self.user_global_ns, self.user_ns)\n"
     ]
    }
   ],
   "source": [
    " data=pd.read_csv(\"Myntra Fasion Clothing.csv\")"
   ]
  },
  {
   "cell_type": "markdown",
   "id": "da7096db",
   "metadata": {},
   "source": [
    "## Loading the first five data-"
   ]
  },
  {
   "cell_type": "code",
   "execution_count": 3,
   "id": "7cd63865",
   "metadata": {},
   "outputs": [
    {
     "data": {
      "text/html": [
       "<div>\n",
       "<style scoped>\n",
       "    .dataframe tbody tr th:only-of-type {\n",
       "        vertical-align: middle;\n",
       "    }\n",
       "\n",
       "    .dataframe tbody tr th {\n",
       "        vertical-align: top;\n",
       "    }\n",
       "\n",
       "    .dataframe thead th {\n",
       "        text-align: right;\n",
       "    }\n",
       "</style>\n",
       "<table border=\"1\" class=\"dataframe\">\n",
       "  <thead>\n",
       "    <tr style=\"text-align: right;\">\n",
       "      <th></th>\n",
       "      <th>URL</th>\n",
       "      <th>Product_id</th>\n",
       "      <th>BrandName</th>\n",
       "      <th>Category</th>\n",
       "      <th>Individual_category</th>\n",
       "      <th>category_by_Gender</th>\n",
       "      <th>Description</th>\n",
       "      <th>DiscountPrice (in Rs)</th>\n",
       "      <th>OriginalPrice (in Rs)</th>\n",
       "      <th>DiscountOffer</th>\n",
       "      <th>SizeOption</th>\n",
       "      <th>Ratings</th>\n",
       "      <th>Reviews</th>\n",
       "    </tr>\n",
       "  </thead>\n",
       "  <tbody>\n",
       "    <tr>\n",
       "      <th>0</th>\n",
       "      <td>https://www.myntra.com/jeans/roadster/roadster...</td>\n",
       "      <td>2296012</td>\n",
       "      <td>Roadster</td>\n",
       "      <td>Bottom Wear</td>\n",
       "      <td>jeans</td>\n",
       "      <td>Men</td>\n",
       "      <td>roadster men navy blue slim fit mid rise clean...</td>\n",
       "      <td>824.0</td>\n",
       "      <td>1499.0</td>\n",
       "      <td>45% OFF</td>\n",
       "      <td>28, 30, 32, 34, 36</td>\n",
       "      <td>3.9</td>\n",
       "      <td>999.0</td>\n",
       "    </tr>\n",
       "    <tr>\n",
       "      <th>1</th>\n",
       "      <td>https://www.myntra.com/track-pants/locomotive/...</td>\n",
       "      <td>13780156</td>\n",
       "      <td>LOCOMOTIVE</td>\n",
       "      <td>Bottom Wear</td>\n",
       "      <td>track-pants</td>\n",
       "      <td>Men</td>\n",
       "      <td>locomotive men black  white solid slim fit tra...</td>\n",
       "      <td>517.0</td>\n",
       "      <td>1149.0</td>\n",
       "      <td>55% OFF</td>\n",
       "      <td>S, M, L, XL</td>\n",
       "      <td>4.0</td>\n",
       "      <td>999.0</td>\n",
       "    </tr>\n",
       "    <tr>\n",
       "      <th>2</th>\n",
       "      <td>https://www.myntra.com/shirts/roadster/roadste...</td>\n",
       "      <td>11895958</td>\n",
       "      <td>Roadster</td>\n",
       "      <td>Topwear</td>\n",
       "      <td>shirts</td>\n",
       "      <td>Men</td>\n",
       "      <td>roadster men navy white  black geometric print...</td>\n",
       "      <td>629.0</td>\n",
       "      <td>1399.0</td>\n",
       "      <td>55% OFF</td>\n",
       "      <td>38, 40, 42, 44, 46, 48</td>\n",
       "      <td>4.3</td>\n",
       "      <td>999.0</td>\n",
       "    </tr>\n",
       "    <tr>\n",
       "      <th>3</th>\n",
       "      <td>https://www.myntra.com/shapewear/zivame/zivame...</td>\n",
       "      <td>4335679</td>\n",
       "      <td>Zivame</td>\n",
       "      <td>Lingerie &amp; Sleep Wear</td>\n",
       "      <td>shapewear</td>\n",
       "      <td>Women</td>\n",
       "      <td>zivame women black saree shapewear zi3023core0...</td>\n",
       "      <td>893.0</td>\n",
       "      <td>1295.0</td>\n",
       "      <td>31% OFF</td>\n",
       "      <td>S, M, L, XL, XXL</td>\n",
       "      <td>4.2</td>\n",
       "      <td>999.0</td>\n",
       "    </tr>\n",
       "    <tr>\n",
       "      <th>4</th>\n",
       "      <td>https://www.myntra.com/tshirts/roadster/roadst...</td>\n",
       "      <td>11690882</td>\n",
       "      <td>Roadster</td>\n",
       "      <td>Western</td>\n",
       "      <td>tshirts</td>\n",
       "      <td>Women</td>\n",
       "      <td>roadster women white solid v neck pure cotton ...</td>\n",
       "      <td>NaN</td>\n",
       "      <td>599.0</td>\n",
       "      <td>35% OFF</td>\n",
       "      <td>XS, S, M, L, XL</td>\n",
       "      <td>4.2</td>\n",
       "      <td>999.0</td>\n",
       "    </tr>\n",
       "  </tbody>\n",
       "</table>\n",
       "</div>"
      ],
      "text/plain": [
       "                                                 URL  Product_id   BrandName  \\\n",
       "0  https://www.myntra.com/jeans/roadster/roadster...     2296012    Roadster   \n",
       "1  https://www.myntra.com/track-pants/locomotive/...    13780156  LOCOMOTIVE   \n",
       "2  https://www.myntra.com/shirts/roadster/roadste...    11895958    Roadster   \n",
       "3  https://www.myntra.com/shapewear/zivame/zivame...     4335679      Zivame   \n",
       "4  https://www.myntra.com/tshirts/roadster/roadst...    11690882    Roadster   \n",
       "\n",
       "                Category Individual_category category_by_Gender  \\\n",
       "0            Bottom Wear               jeans                Men   \n",
       "1            Bottom Wear         track-pants                Men   \n",
       "2                Topwear              shirts                Men   \n",
       "3  Lingerie & Sleep Wear           shapewear              Women   \n",
       "4                Western             tshirts              Women   \n",
       "\n",
       "                                         Description  DiscountPrice (in Rs)  \\\n",
       "0  roadster men navy blue slim fit mid rise clean...                  824.0   \n",
       "1  locomotive men black  white solid slim fit tra...                  517.0   \n",
       "2  roadster men navy white  black geometric print...                  629.0   \n",
       "3  zivame women black saree shapewear zi3023core0...                  893.0   \n",
       "4  roadster women white solid v neck pure cotton ...                    NaN   \n",
       "\n",
       "   OriginalPrice (in Rs) DiscountOffer              SizeOption  Ratings  \\\n",
       "0                 1499.0       45% OFF      28, 30, 32, 34, 36      3.9   \n",
       "1                 1149.0       55% OFF             S, M, L, XL      4.0   \n",
       "2                 1399.0       55% OFF  38, 40, 42, 44, 46, 48      4.3   \n",
       "3                 1295.0       31% OFF        S, M, L, XL, XXL      4.2   \n",
       "4                  599.0       35% OFF         XS, S, M, L, XL      4.2   \n",
       "\n",
       "   Reviews  \n",
       "0    999.0  \n",
       "1    999.0  \n",
       "2    999.0  \n",
       "3    999.0  \n",
       "4    999.0  "
      ]
     },
     "execution_count": 3,
     "metadata": {},
     "output_type": "execute_result"
    }
   ],
   "source": [
    "data.head()"
   ]
  },
  {
   "cell_type": "markdown",
   "id": "a74c1573",
   "metadata": {},
   "source": [
    "## Size of the data"
   ]
  },
  {
   "cell_type": "code",
   "execution_count": 4,
   "id": "3c3c025d",
   "metadata": {},
   "outputs": [
    {
     "data": {
      "text/plain": [
       "(526564, 13)"
      ]
     },
     "execution_count": 4,
     "metadata": {},
     "output_type": "execute_result"
    }
   ],
   "source": [
    "data.shape"
   ]
  },
  {
   "cell_type": "markdown",
   "id": "11394086",
   "metadata": {},
   "source": [
    "## Description of dataset"
   ]
  },
  {
   "cell_type": "code",
   "execution_count": 5,
   "id": "4b8c5891",
   "metadata": {},
   "outputs": [
    {
     "data": {
      "text/html": [
       "<div>\n",
       "<style scoped>\n",
       "    .dataframe tbody tr th:only-of-type {\n",
       "        vertical-align: middle;\n",
       "    }\n",
       "\n",
       "    .dataframe tbody tr th {\n",
       "        vertical-align: top;\n",
       "    }\n",
       "\n",
       "    .dataframe thead th {\n",
       "        text-align: right;\n",
       "    }\n",
       "</style>\n",
       "<table border=\"1\" class=\"dataframe\">\n",
       "  <thead>\n",
       "    <tr style=\"text-align: right;\">\n",
       "      <th></th>\n",
       "      <th>Product_id</th>\n",
       "      <th>DiscountPrice (in Rs)</th>\n",
       "      <th>OriginalPrice (in Rs)</th>\n",
       "      <th>Ratings</th>\n",
       "      <th>Reviews</th>\n",
       "    </tr>\n",
       "  </thead>\n",
       "  <tbody>\n",
       "    <tr>\n",
       "      <th>count</th>\n",
       "      <td>5.265640e+05</td>\n",
       "      <td>333406.000000</td>\n",
       "      <td>526564.000000</td>\n",
       "      <td>190412.000000</td>\n",
       "      <td>190412.000000</td>\n",
       "    </tr>\n",
       "    <tr>\n",
       "      <th>mean</th>\n",
       "      <td>1.506939e+07</td>\n",
       "      <td>1237.444401</td>\n",
       "      <td>2414.068615</td>\n",
       "      <td>4.094892</td>\n",
       "      <td>61.990820</td>\n",
       "    </tr>\n",
       "    <tr>\n",
       "      <th>std</th>\n",
       "      <td>3.225710e+06</td>\n",
       "      <td>1052.063517</td>\n",
       "      <td>1916.962914</td>\n",
       "      <td>0.494158</td>\n",
       "      <td>125.714537</td>\n",
       "    </tr>\n",
       "    <tr>\n",
       "      <th>min</th>\n",
       "      <td>2.739900e+04</td>\n",
       "      <td>127.000000</td>\n",
       "      <td>99.000000</td>\n",
       "      <td>1.000000</td>\n",
       "      <td>0.000000</td>\n",
       "    </tr>\n",
       "    <tr>\n",
       "      <th>25%</th>\n",
       "      <td>1.388053e+07</td>\n",
       "      <td>659.000000</td>\n",
       "      <td>1299.000000</td>\n",
       "      <td>3.900000</td>\n",
       "      <td>8.000000</td>\n",
       "    </tr>\n",
       "    <tr>\n",
       "      <th>50%</th>\n",
       "      <td>1.597106e+07</td>\n",
       "      <td>952.000000</td>\n",
       "      <td>1999.000000</td>\n",
       "      <td>4.200000</td>\n",
       "      <td>18.000000</td>\n",
       "    </tr>\n",
       "    <tr>\n",
       "      <th>75%</th>\n",
       "      <td>1.734741e+07</td>\n",
       "      <td>1469.000000</td>\n",
       "      <td>2899.000000</td>\n",
       "      <td>4.400000</td>\n",
       "      <td>52.000000</td>\n",
       "    </tr>\n",
       "    <tr>\n",
       "      <th>max</th>\n",
       "      <td>1.846435e+07</td>\n",
       "      <td>27996.000000</td>\n",
       "      <td>90000.000000</td>\n",
       "      <td>5.000000</td>\n",
       "      <td>999.000000</td>\n",
       "    </tr>\n",
       "  </tbody>\n",
       "</table>\n",
       "</div>"
      ],
      "text/plain": [
       "         Product_id  DiscountPrice (in Rs)  OriginalPrice (in Rs)  \\\n",
       "count  5.265640e+05          333406.000000          526564.000000   \n",
       "mean   1.506939e+07            1237.444401            2414.068615   \n",
       "std    3.225710e+06            1052.063517            1916.962914   \n",
       "min    2.739900e+04             127.000000              99.000000   \n",
       "25%    1.388053e+07             659.000000            1299.000000   \n",
       "50%    1.597106e+07             952.000000            1999.000000   \n",
       "75%    1.734741e+07            1469.000000            2899.000000   \n",
       "max    1.846435e+07           27996.000000           90000.000000   \n",
       "\n",
       "             Ratings        Reviews  \n",
       "count  190412.000000  190412.000000  \n",
       "mean        4.094892      61.990820  \n",
       "std         0.494158     125.714537  \n",
       "min         1.000000       0.000000  \n",
       "25%         3.900000       8.000000  \n",
       "50%         4.200000      18.000000  \n",
       "75%         4.400000      52.000000  \n",
       "max         5.000000     999.000000  "
      ]
     },
     "execution_count": 5,
     "metadata": {},
     "output_type": "execute_result"
    }
   ],
   "source": [
    "data.describe()"
   ]
  },
  {
   "cell_type": "markdown",
   "id": "9fe611aa",
   "metadata": {},
   "source": [
    "## info() function gives basic information of a dataframe object such as its types, index value, no of rows and no of columns."
   ]
  },
  {
   "cell_type": "code",
   "execution_count": 6,
   "id": "77961691",
   "metadata": {},
   "outputs": [
    {
     "name": "stdout",
     "output_type": "stream",
     "text": [
      "<class 'pandas.core.frame.DataFrame'>\n",
      "RangeIndex: 526564 entries, 0 to 526563\n",
      "Data columns (total 13 columns):\n",
      " #   Column                 Non-Null Count   Dtype  \n",
      "---  ------                 --------------   -----  \n",
      " 0   URL                    526564 non-null  object \n",
      " 1   Product_id             526564 non-null  int64  \n",
      " 2   BrandName              526564 non-null  object \n",
      " 3   Category               526564 non-null  object \n",
      " 4   Individual_category    526564 non-null  object \n",
      " 5   category_by_Gender     526564 non-null  object \n",
      " 6   Description            526564 non-null  object \n",
      " 7   DiscountPrice (in Rs)  333406 non-null  float64\n",
      " 8   OriginalPrice (in Rs)  526564 non-null  float64\n",
      " 9   DiscountOffer          452258 non-null  object \n",
      " 10  SizeOption             526564 non-null  object \n",
      " 11  Ratings                190412 non-null  float64\n",
      " 12  Reviews                190412 non-null  float64\n",
      "dtypes: float64(4), int64(1), object(8)\n",
      "memory usage: 52.2+ MB\n"
     ]
    }
   ],
   "source": [
    "data.info()"
   ]
  },
  {
   "cell_type": "markdown",
   "id": "fe28b185",
   "metadata": {},
   "source": [
    "### Count() returns the number of times an object appears in the list."
   ]
  },
  {
   "cell_type": "code",
   "execution_count": 7,
   "id": "defca8d3",
   "metadata": {},
   "outputs": [
    {
     "data": {
      "text/plain": [
       "URL                      526564\n",
       "Product_id               526564\n",
       "BrandName                526564\n",
       "Category                 526564\n",
       "Individual_category      526564\n",
       "category_by_Gender       526564\n",
       "Description              526564\n",
       "DiscountPrice (in Rs)    333406\n",
       "OriginalPrice (in Rs)    526564\n",
       "DiscountOffer            452258\n",
       "SizeOption               526564\n",
       "Ratings                  190412\n",
       "Reviews                  190412\n",
       "dtype: int64"
      ]
     },
     "execution_count": 7,
     "metadata": {},
     "output_type": "execute_result"
    }
   ],
   "source": [
    "data.count()"
   ]
  },
  {
   "cell_type": "markdown",
   "id": "0b1896d7",
   "metadata": {},
   "source": [
    "### Duplicated() used to find the duplicates rows.\n",
    "- if it shows false then it means no duplicates are found.\n",
    "- if it shows true then it means duplicates are found."
   ]
  },
  {
   "cell_type": "code",
   "execution_count": 8,
   "id": "54ac972c",
   "metadata": {},
   "outputs": [
    {
     "data": {
      "text/plain": [
       "0         False\n",
       "1         False\n",
       "2         False\n",
       "3         False\n",
       "4         False\n",
       "          ...  \n",
       "526559    False\n",
       "526560    False\n",
       "526561    False\n",
       "526562    False\n",
       "526563    False\n",
       "Length: 526564, dtype: bool"
      ]
     },
     "execution_count": 8,
     "metadata": {},
     "output_type": "execute_result"
    }
   ],
   "source": [
    "data.duplicated()"
   ]
  },
  {
   "cell_type": "markdown",
   "id": "1f335e29",
   "metadata": {},
   "source": [
    "#### so here is no True value so we can say there is no duplicate rows."
   ]
  },
  {
   "cell_type": "markdown",
   "id": "157a6c0b",
   "metadata": {},
   "source": [
    "# Data Cleaning"
   ]
  },
  {
   "cell_type": "markdown",
   "id": "511da93c",
   "metadata": {},
   "source": [
    "## Checking for Missing Values-"
   ]
  },
  {
   "cell_type": "markdown",
   "id": "752c6832",
   "metadata": {},
   "source": [
    "### Isnull() indicates whether the an expression contains null data."
   ]
  },
  {
   "cell_type": "code",
   "execution_count": 9,
   "id": "96d5dbab",
   "metadata": {},
   "outputs": [
    {
     "data": {
      "text/plain": [
       "URL                           0\n",
       "Product_id                    0\n",
       "BrandName                     0\n",
       "Category                      0\n",
       "Individual_category           0\n",
       "category_by_Gender            0\n",
       "Description                   0\n",
       "DiscountPrice (in Rs)    193158\n",
       "OriginalPrice (in Rs)         0\n",
       "DiscountOffer             74306\n",
       "SizeOption                    0\n",
       "Ratings                  336152\n",
       "Reviews                  336152\n",
       "dtype: int64"
      ]
     },
     "execution_count": 9,
     "metadata": {},
     "output_type": "execute_result"
    }
   ],
   "source": [
    "data.isnull().sum()"
   ]
  },
  {
   "cell_type": "markdown",
   "id": "c6a4a4ee",
   "metadata": {},
   "source": [
    "## so here as we can see our four columns has some missing values.\n",
    "- DiscountPrice (in Rs) \n",
    "- DiscountOffer \n",
    "- Ratings\n",
    "- Reviews"
   ]
  },
  {
   "cell_type": "markdown",
   "id": "772ad5d2",
   "metadata": {},
   "source": [
    "## Handling Missing Values"
   ]
  },
  {
   "cell_type": "markdown",
   "id": "61c564d0",
   "metadata": {},
   "source": [
    "## RATINGS"
   ]
  },
  {
   "cell_type": "markdown",
   "id": "c6f715cd",
   "metadata": {},
   "source": [
    "### Now we will handle the missing values of Ratings-"
   ]
  },
  {
   "cell_type": "code",
   "execution_count": 10,
   "id": "b09b0b04",
   "metadata": {},
   "outputs": [
    {
     "data": {
      "text/plain": [
       "336152"
      ]
     },
     "execution_count": 10,
     "metadata": {},
     "output_type": "execute_result"
    }
   ],
   "source": [
    "data.Ratings.isnull().sum()"
   ]
  },
  {
   "cell_type": "markdown",
   "id": "6f471a87",
   "metadata": {},
   "source": [
    "### Check the %age of missing value in Ratings"
   ]
  },
  {
   "cell_type": "code",
   "execution_count": 10,
   "id": "8c7c5d43",
   "metadata": {},
   "outputs": [
    {
     "data": {
      "text/plain": [
       "63.83877363435404"
      ]
     },
     "execution_count": 10,
     "metadata": {},
     "output_type": "execute_result"
    }
   ],
   "source": [
    "float(100.0*336152/526564)"
   ]
  },
  {
   "cell_type": "markdown",
   "id": "42448269",
   "metadata": {},
   "source": [
    "### As we can see here Ratings missing values %age is high so we can't drop it.Hence we will look for different method to handle this."
   ]
  },
  {
   "cell_type": "code",
   "execution_count": 11,
   "id": "af07c7fe",
   "metadata": {},
   "outputs": [
    {
     "data": {
      "text/plain": [
       "count    190412.000000\n",
       "mean          4.094892\n",
       "std           0.494158\n",
       "min           1.000000\n",
       "25%           3.900000\n",
       "50%           4.200000\n",
       "75%           4.400000\n",
       "max           5.000000\n",
       "Name: Ratings, dtype: float64"
      ]
     },
     "execution_count": 11,
     "metadata": {},
     "output_type": "execute_result"
    }
   ],
   "source": [
    "data.Ratings.describe()"
   ]
  },
  {
   "cell_type": "markdown",
   "id": "9aed5d2b",
   "metadata": {},
   "source": [
    "### Here Rating data is numeric so we will use its mean fill the missin the missing values."
   ]
  },
  {
   "cell_type": "code",
   "execution_count": 12,
   "id": "e82c6222",
   "metadata": {},
   "outputs": [],
   "source": [
    "Ratings_mean=data.Ratings.mean()"
   ]
  },
  {
   "cell_type": "markdown",
   "id": "e6e6b30f",
   "metadata": {},
   "source": [
    "### Fill the Ratings missing value with its mean"
   ]
  },
  {
   "cell_type": "code",
   "execution_count": 13,
   "id": "6b212a99",
   "metadata": {},
   "outputs": [],
   "source": [
    "data.Ratings.fillna(Ratings_mean, inplace=True)"
   ]
  },
  {
   "cell_type": "markdown",
   "id": "029cce2c",
   "metadata": {},
   "source": [
    "### After filling the null values with the mean we will cross check of its presence."
   ]
  },
  {
   "cell_type": "code",
   "execution_count": 14,
   "id": "3c379cca",
   "metadata": {},
   "outputs": [
    {
     "data": {
      "text/plain": [
       "0"
      ]
     },
     "execution_count": 14,
     "metadata": {},
     "output_type": "execute_result"
    }
   ],
   "source": [
    "data.Ratings.isnull().sum()"
   ]
  },
  {
   "cell_type": "markdown",
   "id": "8c7e1710",
   "metadata": {},
   "source": [
    "### Here, isnull().sum() gives 0 so we can say now there is no null value."
   ]
  },
  {
   "cell_type": "markdown",
   "id": "d1daaa6e",
   "metadata": {},
   "source": [
    "## REVIEWS"
   ]
  },
  {
   "cell_type": "markdown",
   "id": "e228b5f1",
   "metadata": {},
   "source": [
    "### Handling the missing values of Reviews colum-"
   ]
  },
  {
   "cell_type": "markdown",
   "id": "2de57311",
   "metadata": {},
   "source": [
    "#### first we are gonna check the null values in the Reviews column-"
   ]
  },
  {
   "cell_type": "code",
   "execution_count": 15,
   "id": "c4d8588d",
   "metadata": {},
   "outputs": [
    {
     "data": {
      "text/plain": [
       "336152"
      ]
     },
     "execution_count": 15,
     "metadata": {},
     "output_type": "execute_result"
    }
   ],
   "source": [
    "data.Reviews.isnull().sum()"
   ]
  },
  {
   "cell_type": "markdown",
   "id": "53bbd288",
   "metadata": {},
   "source": [
    "#### check the %age of missing value."
   ]
  },
  {
   "cell_type": "code",
   "execution_count": 16,
   "id": "26a0df43",
   "metadata": {},
   "outputs": [
    {
     "data": {
      "text/plain": [
       "63.83877363435404"
      ]
     },
     "execution_count": 16,
     "metadata": {},
     "output_type": "execute_result"
    }
   ],
   "source": [
    "float(100.0*336152/526564)"
   ]
  },
  {
   "cell_type": "markdown",
   "id": "f9707e1b",
   "metadata": {},
   "source": [
    "## Here is %age is quite high so we cant drop this section but we can impute the missing value with its mean value as Review is in numerical criteria."
   ]
  },
  {
   "cell_type": "markdown",
   "id": "e7e95275",
   "metadata": {},
   "source": [
    "## find the mean of the Review Column and put it in another variable."
   ]
  },
  {
   "cell_type": "code",
   "execution_count": 17,
   "id": "ac3a603a",
   "metadata": {},
   "outputs": [],
   "source": [
    "Reviews_mean=data.Reviews.mean()"
   ]
  },
  {
   "cell_type": "markdown",
   "id": "41f5c711",
   "metadata": {},
   "source": [
    "#### Now, fill the missing section of Review with its mean value."
   ]
  },
  {
   "cell_type": "code",
   "execution_count": 18,
   "id": "afc60e0e",
   "metadata": {},
   "outputs": [],
   "source": [
    "data.Reviews.fillna(Reviews_mean, inplace= True)"
   ]
  },
  {
   "cell_type": "code",
   "execution_count": 19,
   "id": "e90dbae0",
   "metadata": {},
   "outputs": [
    {
     "data": {
      "text/plain": [
       "0"
      ]
     },
     "execution_count": 19,
     "metadata": {},
     "output_type": "execute_result"
    }
   ],
   "source": [
    "data.Reviews.isnull().sum()"
   ]
  },
  {
   "cell_type": "markdown",
   "id": "259233f5",
   "metadata": {},
   "source": [
    "## DISCOUNT PRICE"
   ]
  },
  {
   "cell_type": "markdown",
   "id": "a303446b",
   "metadata": {},
   "source": [
    "#### Handling the Discount Price."
   ]
  },
  {
   "cell_type": "markdown",
   "id": "fc2e0424",
   "metadata": {},
   "source": [
    "#### Here Discount offer is in combination of string , integer and symbol so we will split and get our integer for our easy calculation."
   ]
  },
  {
   "cell_type": "markdown",
   "id": "deb84dab",
   "metadata": {},
   "source": [
    "#### we are going to use rename() to change the existing name of the column because previous column name DiscountPrice (RS) showing invalid syntax."
   ]
  },
  {
   "cell_type": "code",
   "execution_count": 20,
   "id": "30382c95",
   "metadata": {},
   "outputs": [],
   "source": [
    "data1=data.rename(columns = {'DiscountPrice (in Rs)':'DiscountPrice'})"
   ]
  },
  {
   "cell_type": "markdown",
   "id": "22083f44",
   "metadata": {},
   "source": [
    "### Lets check whether column name has Changed or not."
   ]
  },
  {
   "cell_type": "code",
   "execution_count": 22,
   "id": "9735f881",
   "metadata": {},
   "outputs": [
    {
     "data": {
      "text/html": [
       "<div>\n",
       "<style scoped>\n",
       "    .dataframe tbody tr th:only-of-type {\n",
       "        vertical-align: middle;\n",
       "    }\n",
       "\n",
       "    .dataframe tbody tr th {\n",
       "        vertical-align: top;\n",
       "    }\n",
       "\n",
       "    .dataframe thead th {\n",
       "        text-align: right;\n",
       "    }\n",
       "</style>\n",
       "<table border=\"1\" class=\"dataframe\">\n",
       "  <thead>\n",
       "    <tr style=\"text-align: right;\">\n",
       "      <th></th>\n",
       "      <th>URL</th>\n",
       "      <th>Product_id</th>\n",
       "      <th>BrandName</th>\n",
       "      <th>Category</th>\n",
       "      <th>Individual_category</th>\n",
       "      <th>category_by_Gender</th>\n",
       "      <th>Description</th>\n",
       "      <th>DiscountPrice</th>\n",
       "      <th>OriginalPrice (in Rs)</th>\n",
       "      <th>DiscountOffer</th>\n",
       "      <th>SizeOption</th>\n",
       "      <th>Ratings</th>\n",
       "      <th>Reviews</th>\n",
       "    </tr>\n",
       "  </thead>\n",
       "  <tbody>\n",
       "    <tr>\n",
       "      <th>0</th>\n",
       "      <td>https://www.myntra.com/jeans/roadster/roadster...</td>\n",
       "      <td>2296012</td>\n",
       "      <td>Roadster</td>\n",
       "      <td>Bottom Wear</td>\n",
       "      <td>jeans</td>\n",
       "      <td>Men</td>\n",
       "      <td>roadster men navy blue slim fit mid rise clean...</td>\n",
       "      <td>824.0</td>\n",
       "      <td>1499.0</td>\n",
       "      <td>45% OFF</td>\n",
       "      <td>28, 30, 32, 34, 36</td>\n",
       "      <td>3.9</td>\n",
       "      <td>999.0</td>\n",
       "    </tr>\n",
       "    <tr>\n",
       "      <th>1</th>\n",
       "      <td>https://www.myntra.com/track-pants/locomotive/...</td>\n",
       "      <td>13780156</td>\n",
       "      <td>LOCOMOTIVE</td>\n",
       "      <td>Bottom Wear</td>\n",
       "      <td>track-pants</td>\n",
       "      <td>Men</td>\n",
       "      <td>locomotive men black  white solid slim fit tra...</td>\n",
       "      <td>517.0</td>\n",
       "      <td>1149.0</td>\n",
       "      <td>55% OFF</td>\n",
       "      <td>S, M, L, XL</td>\n",
       "      <td>4.0</td>\n",
       "      <td>999.0</td>\n",
       "    </tr>\n",
       "    <tr>\n",
       "      <th>2</th>\n",
       "      <td>https://www.myntra.com/shirts/roadster/roadste...</td>\n",
       "      <td>11895958</td>\n",
       "      <td>Roadster</td>\n",
       "      <td>Topwear</td>\n",
       "      <td>shirts</td>\n",
       "      <td>Men</td>\n",
       "      <td>roadster men navy white  black geometric print...</td>\n",
       "      <td>629.0</td>\n",
       "      <td>1399.0</td>\n",
       "      <td>55% OFF</td>\n",
       "      <td>38, 40, 42, 44, 46, 48</td>\n",
       "      <td>4.3</td>\n",
       "      <td>999.0</td>\n",
       "    </tr>\n",
       "    <tr>\n",
       "      <th>3</th>\n",
       "      <td>https://www.myntra.com/shapewear/zivame/zivame...</td>\n",
       "      <td>4335679</td>\n",
       "      <td>Zivame</td>\n",
       "      <td>Lingerie &amp; Sleep Wear</td>\n",
       "      <td>shapewear</td>\n",
       "      <td>Women</td>\n",
       "      <td>zivame women black saree shapewear zi3023core0...</td>\n",
       "      <td>893.0</td>\n",
       "      <td>1295.0</td>\n",
       "      <td>31% OFF</td>\n",
       "      <td>S, M, L, XL, XXL</td>\n",
       "      <td>4.2</td>\n",
       "      <td>999.0</td>\n",
       "    </tr>\n",
       "    <tr>\n",
       "      <th>4</th>\n",
       "      <td>https://www.myntra.com/tshirts/roadster/roadst...</td>\n",
       "      <td>11690882</td>\n",
       "      <td>Roadster</td>\n",
       "      <td>Western</td>\n",
       "      <td>tshirts</td>\n",
       "      <td>Women</td>\n",
       "      <td>roadster women white solid v neck pure cotton ...</td>\n",
       "      <td>NaN</td>\n",
       "      <td>599.0</td>\n",
       "      <td>35% OFF</td>\n",
       "      <td>XS, S, M, L, XL</td>\n",
       "      <td>4.2</td>\n",
       "      <td>999.0</td>\n",
       "    </tr>\n",
       "  </tbody>\n",
       "</table>\n",
       "</div>"
      ],
      "text/plain": [
       "                                                 URL  Product_id   BrandName  \\\n",
       "0  https://www.myntra.com/jeans/roadster/roadster...     2296012    Roadster   \n",
       "1  https://www.myntra.com/track-pants/locomotive/...    13780156  LOCOMOTIVE   \n",
       "2  https://www.myntra.com/shirts/roadster/roadste...    11895958    Roadster   \n",
       "3  https://www.myntra.com/shapewear/zivame/zivame...     4335679      Zivame   \n",
       "4  https://www.myntra.com/tshirts/roadster/roadst...    11690882    Roadster   \n",
       "\n",
       "                Category Individual_category category_by_Gender  \\\n",
       "0            Bottom Wear               jeans                Men   \n",
       "1            Bottom Wear         track-pants                Men   \n",
       "2                Topwear              shirts                Men   \n",
       "3  Lingerie & Sleep Wear           shapewear              Women   \n",
       "4                Western             tshirts              Women   \n",
       "\n",
       "                                         Description  DiscountPrice  \\\n",
       "0  roadster men navy blue slim fit mid rise clean...          824.0   \n",
       "1  locomotive men black  white solid slim fit tra...          517.0   \n",
       "2  roadster men navy white  black geometric print...          629.0   \n",
       "3  zivame women black saree shapewear zi3023core0...          893.0   \n",
       "4  roadster women white solid v neck pure cotton ...            NaN   \n",
       "\n",
       "   OriginalPrice (in Rs) DiscountOffer              SizeOption  Ratings  \\\n",
       "0                 1499.0       45% OFF      28, 30, 32, 34, 36      3.9   \n",
       "1                 1149.0       55% OFF             S, M, L, XL      4.0   \n",
       "2                 1399.0       55% OFF  38, 40, 42, 44, 46, 48      4.3   \n",
       "3                 1295.0       31% OFF        S, M, L, XL, XXL      4.2   \n",
       "4                  599.0       35% OFF         XS, S, M, L, XL      4.2   \n",
       "\n",
       "   Reviews  \n",
       "0    999.0  \n",
       "1    999.0  \n",
       "2    999.0  \n",
       "3    999.0  \n",
       "4    999.0  "
      ]
     },
     "execution_count": 22,
     "metadata": {},
     "output_type": "execute_result"
    }
   ],
   "source": [
    "data1.head()"
   ]
  },
  {
   "cell_type": "markdown",
   "id": "8dbad004",
   "metadata": {},
   "source": [
    "### As you can see in above table (in Rs ) has removed."
   ]
  },
  {
   "cell_type": "markdown",
   "id": "d10f50e1",
   "metadata": {},
   "source": [
    "### Lets find the total null value in this section"
   ]
  },
  {
   "cell_type": "code",
   "execution_count": 23,
   "id": "39c23b9e",
   "metadata": {},
   "outputs": [
    {
     "data": {
      "text/plain": [
       "193158"
      ]
     },
     "execution_count": 23,
     "metadata": {},
     "output_type": "execute_result"
    }
   ],
   "source": [
    "data1.DiscountPrice.isnull().sum()"
   ]
  },
  {
   "cell_type": "markdown",
   "id": "2ed5c807",
   "metadata": {},
   "source": [
    "### Check the %age of missing value."
   ]
  },
  {
   "cell_type": "code",
   "execution_count": 24,
   "id": "95cbe263",
   "metadata": {},
   "outputs": [
    {
     "data": {
      "text/plain": [
       "36.68272042904566"
      ]
     },
     "execution_count": 24,
     "metadata": {},
     "output_type": "execute_result"
    }
   ],
   "source": [
    "float(100.0*193158/526564)"
   ]
  },
  {
   "cell_type": "markdown",
   "id": "907f3917",
   "metadata": {},
   "source": [
    "### Again here also %age is high so we can't ignore it that's why we will find out its mean, store it in another variable and impute it."
   ]
  },
  {
   "cell_type": "code",
   "execution_count": 21,
   "id": "53bcc8a1",
   "metadata": {},
   "outputs": [],
   "source": [
    "DiscountPrice_mean=data1.DiscountPrice.mean()"
   ]
  },
  {
   "cell_type": "markdown",
   "id": "f8895223",
   "metadata": {},
   "source": [
    "### fill the missing values with the mean."
   ]
  },
  {
   "cell_type": "code",
   "execution_count": 22,
   "id": "cbd7acc3",
   "metadata": {},
   "outputs": [],
   "source": [
    "data1.DiscountPrice.fillna(DiscountPrice_mean, inplace= True)"
   ]
  },
  {
   "cell_type": "markdown",
   "id": "93f157d9",
   "metadata": {},
   "source": [
    "### After imputing mean value ,Lets check the null value"
   ]
  },
  {
   "cell_type": "code",
   "execution_count": 23,
   "id": "4e172108",
   "metadata": {},
   "outputs": [
    {
     "data": {
      "text/plain": [
       "0"
      ]
     },
     "execution_count": 23,
     "metadata": {},
     "output_type": "execute_result"
    }
   ],
   "source": [
    "data1.DiscountPrice.isnull().sum()"
   ]
  },
  {
   "cell_type": "markdown",
   "id": "5fe25af1",
   "metadata": {},
   "source": [
    "## DISCOUNT OFFER"
   ]
  },
  {
   "cell_type": "markdown",
   "id": "11bea030",
   "metadata": {},
   "source": [
    "### Check the missing values in Discount Offer"
   ]
  },
  {
   "cell_type": "code",
   "execution_count": 24,
   "id": "3129f460",
   "metadata": {},
   "outputs": [
    {
     "data": {
      "text/plain": [
       "74306"
      ]
     },
     "execution_count": 24,
     "metadata": {},
     "output_type": "execute_result"
    }
   ],
   "source": [
    "data1.DiscountOffer.isnull().sum()"
   ]
  },
  {
   "cell_type": "markdown",
   "id": "11719e38",
   "metadata": {},
   "source": [
    "### Find the %age of missing value"
   ]
  },
  {
   "cell_type": "code",
   "execution_count": 25,
   "id": "721bada7",
   "metadata": {},
   "outputs": [
    {
     "data": {
      "text/plain": [
       "14.11148502366284"
      ]
     },
     "execution_count": 25,
     "metadata": {},
     "output_type": "execute_result"
    }
   ],
   "source": [
    "float(100.0*74306/526564)"
   ]
  },
  {
   "cell_type": "markdown",
   "id": "f7e6f234",
   "metadata": {},
   "source": [
    "### Here %age is not high as earlier was and this colum has mixture of Dicount %age and Price so its not suitable to use mean or Remove the column hence, I decided to impute 0 at null place so it has no impct on data."
   ]
  },
  {
   "cell_type": "code",
   "execution_count": 26,
   "id": "df34d024",
   "metadata": {},
   "outputs": [],
   "source": [
    " data1.DiscountOffer.fillna(0, inplace= True)"
   ]
  },
  {
   "cell_type": "markdown",
   "id": "00c71abf",
   "metadata": {},
   "source": [
    "### Check for the null values in Discount section.\n"
   ]
  },
  {
   "cell_type": "code",
   "execution_count": 28,
   "id": "cfe5f647",
   "metadata": {},
   "outputs": [
    {
     "data": {
      "text/plain": [
       "0"
      ]
     },
     "execution_count": 28,
     "metadata": {},
     "output_type": "execute_result"
    }
   ],
   "source": [
    "data1.DiscountOffer.isnull().sum()"
   ]
  },
  {
   "cell_type": "markdown",
   "id": "7725fe90",
   "metadata": {},
   "source": [
    "# Visualizing the Data"
   ]
  },
  {
   "cell_type": "markdown",
   "id": "df28c514",
   "metadata": {},
   "source": [
    "## Checking for outliers-"
   ]
  },
  {
   "cell_type": "markdown",
   "id": "220e5562",
   "metadata": {},
   "source": [
    "### Outliers-The values that fall more than three standard deviation from the mean they are typically Outliers."
   ]
  },
  {
   "cell_type": "code",
   "execution_count": 29,
   "id": "0b84eb97",
   "metadata": {},
   "outputs": [
    {
     "name": "stderr",
     "output_type": "stream",
     "text": [
      "C:\\Users\\hp\\anaconda3\\lib\\site-packages\\seaborn\\_decorators.py:36: FutureWarning: Pass the following variable as a keyword arg: x. From version 0.12, the only valid positional argument will be `data`, and passing other arguments without an explicit keyword will result in an error or misinterpretation.\n",
      "  warnings.warn(\n"
     ]
    },
    {
     "data": {
      "text/plain": [
       "<AxesSubplot:xlabel='DiscountPrice'>"
      ]
     },
     "execution_count": 29,
     "metadata": {},
     "output_type": "execute_result"
    },
    {
     "data": {
      "image/png": "[encoded data removed]",
      "text/plain": [
       "<Figure size 432x288 with 1 Axes>"
      ]
     },
     "metadata": {
      "needs_background": "light"
     },
     "output_type": "display_data"
    }
   ],
   "source": [
    "sns.boxplot(data1['DiscountPrice'])"
   ]
  },
  {
   "cell_type": "markdown",
   "id": "6bdf0e14",
   "metadata": {},
   "source": [
    "### As i was trying detect the outliers of Original price but it show Syntax error because of its name so i will first change the name of that particualr column"
   ]
  },
  {
   "cell_type": "code",
   "execution_count": 31,
   "id": "1a4ad01a",
   "metadata": {},
   "outputs": [],
   "source": [
    "data1=data.rename(columns = {'OriginalPrice (in Rs)':'OriginalPrice'})"
   ]
  },
  {
   "cell_type": "markdown",
   "id": "e7b5fc3d",
   "metadata": {},
   "source": [
    "### Check wether name has changed or not."
   ]
  },
  {
   "cell_type": "code",
   "execution_count": 32,
   "id": "91a77e5b",
   "metadata": {},
   "outputs": [
    {
     "data": {
      "text/html": [
       "<div>\n",
       "<style scoped>\n",
       "    .dataframe tbody tr th:only-of-type {\n",
       "        vertical-align: middle;\n",
       "    }\n",
       "\n",
       "    .dataframe tbody tr th {\n",
       "        vertical-align: top;\n",
       "    }\n",
       "\n",
       "    .dataframe thead th {\n",
       "        text-align: right;\n",
       "    }\n",
       "</style>\n",
       "<table border=\"1\" class=\"dataframe\">\n",
       "  <thead>\n",
       "    <tr style=\"text-align: right;\">\n",
       "      <th></th>\n",
       "      <th>URL</th>\n",
       "      <th>Product_id</th>\n",
       "      <th>BrandName</th>\n",
       "      <th>Category</th>\n",
       "      <th>Individual_category</th>\n",
       "      <th>category_by_Gender</th>\n",
       "      <th>Description</th>\n",
       "      <th>DiscountPrice (in Rs)</th>\n",
       "      <th>OriginalPrice</th>\n",
       "      <th>DiscountOffer</th>\n",
       "      <th>SizeOption</th>\n",
       "      <th>Ratings</th>\n",
       "      <th>Reviews</th>\n",
       "    </tr>\n",
       "  </thead>\n",
       "  <tbody>\n",
       "    <tr>\n",
       "      <th>0</th>\n",
       "      <td>https://www.myntra.com/jeans/roadster/roadster...</td>\n",
       "      <td>2296012</td>\n",
       "      <td>Roadster</td>\n",
       "      <td>Bottom Wear</td>\n",
       "      <td>jeans</td>\n",
       "      <td>Men</td>\n",
       "      <td>roadster men navy blue slim fit mid rise clean...</td>\n",
       "      <td>824.0</td>\n",
       "      <td>1499.0</td>\n",
       "      <td>45% OFF</td>\n",
       "      <td>28, 30, 32, 34, 36</td>\n",
       "      <td>3.9</td>\n",
       "      <td>999.0</td>\n",
       "    </tr>\n",
       "    <tr>\n",
       "      <th>1</th>\n",
       "      <td>https://www.myntra.com/track-pants/locomotive/...</td>\n",
       "      <td>13780156</td>\n",
       "      <td>LOCOMOTIVE</td>\n",
       "      <td>Bottom Wear</td>\n",
       "      <td>track-pants</td>\n",
       "      <td>Men</td>\n",
       "      <td>locomotive men black  white solid slim fit tra...</td>\n",
       "      <td>517.0</td>\n",
       "      <td>1149.0</td>\n",
       "      <td>55% OFF</td>\n",
       "      <td>S, M, L, XL</td>\n",
       "      <td>4.0</td>\n",
       "      <td>999.0</td>\n",
       "    </tr>\n",
       "    <tr>\n",
       "      <th>2</th>\n",
       "      <td>https://www.myntra.com/shirts/roadster/roadste...</td>\n",
       "      <td>11895958</td>\n",
       "      <td>Roadster</td>\n",
       "      <td>Topwear</td>\n",
       "      <td>shirts</td>\n",
       "      <td>Men</td>\n",
       "      <td>roadster men navy white  black geometric print...</td>\n",
       "      <td>629.0</td>\n",
       "      <td>1399.0</td>\n",
       "      <td>55% OFF</td>\n",
       "      <td>38, 40, 42, 44, 46, 48</td>\n",
       "      <td>4.3</td>\n",
       "      <td>999.0</td>\n",
       "    </tr>\n",
       "    <tr>\n",
       "      <th>3</th>\n",
       "      <td>https://www.myntra.com/shapewear/zivame/zivame...</td>\n",
       "      <td>4335679</td>\n",
       "      <td>Zivame</td>\n",
       "      <td>Lingerie &amp; Sleep Wear</td>\n",
       "      <td>shapewear</td>\n",
       "      <td>Women</td>\n",
       "      <td>zivame women black saree shapewear zi3023core0...</td>\n",
       "      <td>893.0</td>\n",
       "      <td>1295.0</td>\n",
       "      <td>31% OFF</td>\n",
       "      <td>S, M, L, XL, XXL</td>\n",
       "      <td>4.2</td>\n",
       "      <td>999.0</td>\n",
       "    </tr>\n",
       "    <tr>\n",
       "      <th>4</th>\n",
       "      <td>https://www.myntra.com/tshirts/roadster/roadst...</td>\n",
       "      <td>11690882</td>\n",
       "      <td>Roadster</td>\n",
       "      <td>Western</td>\n",
       "      <td>tshirts</td>\n",
       "      <td>Women</td>\n",
       "      <td>roadster women white solid v neck pure cotton ...</td>\n",
       "      <td>NaN</td>\n",
       "      <td>599.0</td>\n",
       "      <td>35% OFF</td>\n",
       "      <td>XS, S, M, L, XL</td>\n",
       "      <td>4.2</td>\n",
       "      <td>999.0</td>\n",
       "    </tr>\n",
       "  </tbody>\n",
       "</table>\n",
       "</div>"
      ],
      "text/plain": [
       "                                                 URL  Product_id   BrandName  \\\n",
       "0  https://www.myntra.com/jeans/roadster/roadster...     2296012    Roadster   \n",
       "1  https://www.myntra.com/track-pants/locomotive/...    13780156  LOCOMOTIVE   \n",
       "2  https://www.myntra.com/shirts/roadster/roadste...    11895958    Roadster   \n",
       "3  https://www.myntra.com/shapewear/zivame/zivame...     4335679      Zivame   \n",
       "4  https://www.myntra.com/tshirts/roadster/roadst...    11690882    Roadster   \n",
       "\n",
       "                Category Individual_category category_by_Gender  \\\n",
       "0            Bottom Wear               jeans                Men   \n",
       "1            Bottom Wear         track-pants                Men   \n",
       "2                Topwear              shirts                Men   \n",
       "3  Lingerie & Sleep Wear           shapewear              Women   \n",
       "4                Western             tshirts              Women   \n",
       "\n",
       "                                         Description  DiscountPrice (in Rs)  \\\n",
       "0  roadster men navy blue slim fit mid rise clean...                  824.0   \n",
       "1  locomotive men black  white solid slim fit tra...                  517.0   \n",
       "2  roadster men navy white  black geometric print...                  629.0   \n",
       "3  zivame women black saree shapewear zi3023core0...                  893.0   \n",
       "4  roadster women white solid v neck pure cotton ...                    NaN   \n",
       "\n",
       "   OriginalPrice DiscountOffer              SizeOption  Ratings  Reviews  \n",
       "0         1499.0       45% OFF      28, 30, 32, 34, 36      3.9    999.0  \n",
       "1         1149.0       55% OFF             S, M, L, XL      4.0    999.0  \n",
       "2         1399.0       55% OFF  38, 40, 42, 44, 46, 48      4.3    999.0  \n",
       "3         1295.0       31% OFF        S, M, L, XL, XXL      4.2    999.0  \n",
       "4          599.0       35% OFF         XS, S, M, L, XL      4.2    999.0  "
      ]
     },
     "execution_count": 32,
     "metadata": {},
     "output_type": "execute_result"
    }
   ],
   "source": [
    "data1.head()"
   ]
  },
  {
   "cell_type": "code",
   "execution_count": 33,
   "id": "5b0bfacb",
   "metadata": {},
   "outputs": [
    {
     "name": "stderr",
     "output_type": "stream",
     "text": [
      "C:\\Users\\hp\\anaconda3\\lib\\site-packages\\seaborn\\_decorators.py:36: FutureWarning: Pass the following variable as a keyword arg: x. From version 0.12, the only valid positional argument will be `data`, and passing other arguments without an explicit keyword will result in an error or misinterpretation.\n",
      "  warnings.warn(\n"
     ]
    },
    {
     "data": {
      "text/plain": [
       "<AxesSubplot:xlabel='OriginalPrice'>"
      ]
     },
     "execution_count": 33,
     "metadata": {},
     "output_type": "execute_result"
    },
    {
     "data": {
      "image/png": "[encoded data removed]",
      "text/plain": [
       "<Figure size 432x288 with 1 Axes>"
      ]
     },
     "metadata": {
      "needs_background": "light"
     },
     "output_type": "display_data"
    }
   ],
   "source": [
    "sns.boxplot(data1['OriginalPrice'])"
   ]
  },
  {
   "cell_type": "code",
   "execution_count": 34,
   "id": "7539a1d0",
   "metadata": {},
   "outputs": [
    {
     "name": "stdout",
     "output_type": "stream",
     "text": [
      "(array([   353,    378,    877, ..., 526560, 526561, 526562], dtype=int64),)\n"
     ]
    }
   ],
   "source": [
    "# Position of the Outlier\n",
    "print(np.where(data1['OriginalPrice']>6000))"
   ]
  },
  {
   "cell_type": "markdown",
   "id": "95a849e2",
   "metadata": {},
   "source": [
    "### Here we get outlier value above 6k so we are going to drop it using IQR."
   ]
  },
  {
   "cell_type": "markdown",
   "id": "4a1b5378",
   "metadata": {},
   "source": [
    "## IQR"
   ]
  },
  {
   "cell_type": "markdown",
   "id": "f4076141",
   "metadata": {},
   "source": [
    "### The interquartile range (IQR) is the range of values that resides in the middle of the scores. When a distribution is skewed, and the median is used instead of the mean to show a central tendency, the appropriate measure of variability is the Interquartile range. Q1 – Lower Quartile Part. Q2 – Median."
   ]
  },
  {
   "cell_type": "markdown",
   "id": "a3fc8a32",
   "metadata": {},
   "source": [
    "## IQR=Q3-Q1"
   ]
  },
  {
   "cell_type": "code",
   "execution_count": 36,
   "id": "2f15ec3c",
   "metadata": {},
   "outputs": [
    {
     "name": "stdout",
     "output_type": "stream",
     "text": [
      "Old Shape:  (526564, 13)\n",
      "New Shape:  (492848, 13)\n"
     ]
    }
   ],
   "source": [
    "Q1 = np.percentile(data1['OriginalPrice'], 25,\n",
    "                   interpolation = 'midpoint')\n",
    " \n",
    "Q3 = np.percentile(data1['OriginalPrice'], 75,\n",
    "                   interpolation = 'midpoint')\n",
    "IQR = Q3 - Q1\n",
    "print(\"Old Shape: \", data1.shape)\n",
    " \n",
    "# Upper bound\n",
    "upper = np.where(data1['OriginalPrice'] >= (Q3+1.5*IQR))\n",
    "# Lower bound\n",
    "lower = np.where(data1['OriginalPrice'] <= (Q1-1.5*IQR))\n",
    " \n",
    "''' Removing the Outliers '''\n",
    "data1.drop(upper[0], inplace = True)\n",
    "data1.drop(lower[0], inplace = True)\n",
    " \n",
    "print(\"New Shape: \", data1.shape)"
   ]
  },
  {
   "cell_type": "markdown",
   "id": "c9b9128f",
   "metadata": {},
   "source": [
    "### In above cell, Old shape is shape of dataset with particular column(Original price) and New shape is shape of the dataset after removing Outliers."
   ]
  },
  {
   "cell_type": "code",
   "execution_count": null,
   "id": "cb10b540",
   "metadata": {},
   "outputs": [],
   "source": []
  }
 ],
 "metadata": {
  "kernelspec": {
   "display_name": "Python 3 (ipykernel)",
   "language": "python",
   "name": "python3"
  },
  "language_info": {
   "codemirror_mode": {
    "name": "ipython",
    "version": 3
   },
   "file_extension": ".py",
   "mimetype": "text/x-python",
   "name": "python",
   "nbconvert_exporter": "python",
   "pygments_lexer": "ipython3",
   "version": "3.9.7"
  }
 },
 "nbformat": 4,
 "nbformat_minor": 5
}
